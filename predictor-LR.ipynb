{
 "cells": [
  {
   "cell_type": "code",
   "execution_count": null,
   "metadata": {},
   "outputs": [
    {
     "name": "stdout",
     "output_type": "stream",
     "text": [
      "Problem Categories: 36\n",
      "Mean Squared Error on Test Data: 8164.144173628735\n"
     ]
    }
   ],
   "source": [
    "import pandas as pd\n",
    "from sklearn.linear_model import LinearRegression\n",
    "from sklearn.metrics import mean_squared_error\n",
    "import numpy as np\n",
    "import matplotlib.pyplot as plt\n",
    "\n",
    "# Load the data\n",
    "data = pd.read_csv('tourist_problem.csv')\n",
    "\n",
    "# Extract unique problem tags\n",
    "all_tags = '; '.join(data['Problem Tags'])\n",
    "tags_split = [tag.strip() for sublist in all_tags.split(';') for tag in sublist.split(',') if tag.strip()]\n",
    "unique_tags = list(set(tags_split))  # Convert set to list\n",
    "print(f\"Problem Categories: {len(unique_tags)}\")\n",
    "\n",
    "# Create a DataFrame for one-hot encoded tags\n",
    "tags_encoded = pd.DataFrame(0, index=np.arange(len(data)), columns=unique_tags)\n",
    "for i, tags in enumerate(data['Problem Tags']):\n",
    "    for tag in tags.split(';'):\n",
    "        tag = tag.strip()\n",
    "        if tag in tags_encoded.columns:\n",
    "            tags_encoded.at[i, tag] = 1\n",
    "\n",
    "# Combine the one-hot encoded tags with 'Old Rating' and 'Contest Duration'\n",
    "X = pd.concat([data[['Old Rating', 'Contest Duration']], tags_encoded], axis=1)\n",
    "y = data['New Rating']\n",
    "\n",
    "# Split the data into training and testing sets\n",
    "split_index = int(len(data) * 0.8)\n",
    "X_train, X_test = X.iloc[:split_index], X.iloc[split_index:]\n",
    "y_train, y_test = y.iloc[:split_index], y.iloc[split_index:]\n",
    "\n",
    "# Initialize and train the linear regression model\n",
    "lin_reg = LinearRegression()\n",
    "lin_reg.fit(X_train, y_train)\n",
    "\n",
    "# Predictions\n",
    "y_test_pred = lin_reg.predict(X_test)\n",
    "\n",
    "# Evaluate the model\n",
    "mse = mean_squared_error(y_test, y_test_pred)\n",
    "print(f\"Mean Squared Error on Test Data: {mse}\")\n",
    "\n",
    "# Plotting\n",
    "plt.figure(figsize=(10, 6))\n",
    "plt.plot(np.arange(len(y_test)), y_test, label='Actual Ratings', color='blue', marker='o')\n",
    "plt.plot(np.arange(len(y_test)), y_test_pred, label='Predicted Ratings', color='red', linestyle='dashed', marker='x')\n",
    "plt.title('Actual vs Predicted Ratings - Linear Regression')\n",
    "plt.xlabel('Contest Number')\n",
    "plt.ylabel('Rating')\n",
    "plt.legend()\n",
    "plt.grid(True)\n",
    "# Save the figure\n",
    "plt.savefig('actual_vs_predicted_ratings_linear_regression.png', dpi=1200)  # Adjust the file name and dpi as needed\n",
    "plt.show()\n"
   ]
  },
  {
   "cell_type": "code",
   "execution_count": null,
   "metadata": {},
   "outputs": [],
   "source": []
  }
 ],
 "metadata": {
  "kernelspec": {
   "display_name": "Python 3 (ipykernel)",
   "language": "python",
   "name": "python3"
  },
  "language_info": {
   "codemirror_mode": {
    "name": "ipython",
    "version": 3
   },
   "file_extension": ".py",
   "mimetype": "text/x-python",
   "name": "python",
   "nbconvert_exporter": "python",
   "pygments_lexer": "ipython3",
   "version": "3.9.16"
  }
 },
 "nbformat": 4,
 "nbformat_minor": 4
}
