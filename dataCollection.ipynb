{
 "cells": [
  {
   "cell_type": "code",
   "execution_count": 30,
   "metadata": {},
   "outputs": [],
   "source": [
    "import requests\n",
    "import time\n",
    "import json"
   ]
  },
  {
   "cell_type": "code",
   "execution_count": 6,
   "metadata": {},
   "outputs": [],
   "source": [
    "def get_contests():\n",
    "    response = requests.get('https://codeforces.com/api/contest.list')\n",
    "    if response.status_code == 200 and response.json()['status'] == 'OK':\n",
    "        return response.json()['result']\n",
    "    else:\n",
    "        return []\n"
   ]
  },
  {
   "cell_type": "code",
   "execution_count": 39,
   "metadata": {},
   "outputs": [],
   "source": [
    "def get_contest_details(contest_id):\n",
    "    details = {}\n",
    "    endpoints = {\n",
    "        'ratingChanges': f'https://codeforces.com/api/contest.ratingChanges?contestId={contest_id}',\n",
    "        # 'standings': f'https://codeforces.com/api/contest.standings?contestId={contest_id}',\n",
    "        # 'status': f'https://codeforces.com/api/contest.status?contestId={contest_id}',\n",
    "        # 'problems': f'https://codeforces.com/api/contest.standings?contestId={contest_id}'\n",
    "    }\n",
    "\n",
    "    for key, url in endpoints.items():\n",
    "        response = requests.get(url)\n",
    "        time.sleep(3)\n",
    "        if response.status_code == 200 and response.json()['status'] == 'OK':\n",
    "            details[key] = response.json()['result'][0:10]\n",
    "        else:\n",
    "            details[key] = None\n",
    "\n",
    "    return details"
   ]
  },
  {
   "cell_type": "code",
   "execution_count": 40,
   "metadata": {},
   "outputs": [
    {
     "name": "stdout",
     "output_type": "stream",
     "text": [
      "1803\n"
     ]
    }
   ],
   "source": [
    "contests = get_contests()\n",
    "print(len(contests))"
   ]
  },
  {
   "cell_type": "code",
   "execution_count": 41,
   "metadata": {},
   "outputs": [
    {
     "data": {
      "text/plain": [
       "{'id': 1896,\n",
       " 'name': 'CodeTON Round 7 (Div. 1 + Div. 2, Rated, Prizes!)',\n",
       " 'type': 'CF',\n",
       " 'phase': 'BEFORE',\n",
       " 'frozen': False,\n",
       " 'durationSeconds': 9000,\n",
       " 'startTimeSeconds': 1700922900,\n",
       " 'relativeTimeSeconds': -694237}"
      ]
     },
     "execution_count": 41,
     "metadata": {},
     "output_type": "execute_result"
    }
   ],
   "source": [
    "contests[0]"
   ]
  },
  {
   "cell_type": "code",
   "execution_count": 37,
   "metadata": {},
   "outputs": [],
   "source": [
    "contest_details = {}\n",
    "i=0\n",
    "for contest in contests:\n",
    "    if(contest[\"phase\"] == \"FINISHED\"):\n",
    "        id = contest[\"id\"]\n",
    "        contest_details[id] = get_contest_details(id)\n",
    "        i = i+1\n",
    "        if(i==2):\n",
    "            break"
   ]
  },
  {
   "cell_type": "code",
   "execution_count": 38,
   "metadata": {},
   "outputs": [],
   "source": [
    "with open(\"contest_details.json\", 'w') as file:\n",
    "    json.dump(contest_details, file, indent=4)"
   ]
  },
  {
   "cell_type": "code",
   "execution_count": 29,
   "metadata": {},
   "outputs": [
    {
     "data": {
      "text/plain": [
       "[{'contestId': 1893,\n",
       "  'index': 'A',\n",
       "  'name': 'Anonymous Informant',\n",
       "  'type': 'PROGRAMMING',\n",
       "  'points': 500.0,\n",
       "  'rating': 1400,\n",
       "  'tags': ['brute force', 'dfs and similar', 'graphs', 'implementation']},\n",
       " {'contestId': 1893,\n",
       "  'index': 'B',\n",
       "  'name': 'Neutral Tonality',\n",
       "  'type': 'PROGRAMMING',\n",
       "  'points': 1000.0,\n",
       "  'rating': 1700,\n",
       "  'tags': ['constructive algorithms', 'greedy', 'sortings', 'two pointers']},\n",
       " {'contestId': 1893,\n",
       "  'index': 'C',\n",
       "  'name': 'Freedom of Choice',\n",
       "  'type': 'PROGRAMMING',\n",
       "  'points': 1250.0,\n",
       "  'rating': 2000,\n",
       "  'tags': ['brute force', 'greedy', 'implementation']},\n",
       " {'contestId': 1893,\n",
       "  'index': 'D',\n",
       "  'name': 'Colorful Constructive',\n",
       "  'type': 'PROGRAMMING',\n",
       "  'points': 2250.0,\n",
       "  'rating': 2600,\n",
       "  'tags': ['constructive algorithms', 'data structures', 'greedy']},\n",
       " {'contestId': 1893,\n",
       "  'index': 'E',\n",
       "  'name': 'Cacti Symphony',\n",
       "  'type': 'PROGRAMMING',\n",
       "  'points': 2750.0,\n",
       "  'rating': 3500,\n",
       "  'tags': ['combinatorics', 'dfs and similar', 'dp', 'graphs']}]"
      ]
     },
     "execution_count": 29,
     "metadata": {},
     "output_type": "execute_result"
    }
   ],
   "source": [
    "contest_details[1893][\"problems\"][\"problems\"]"
   ]
  },
  {
   "cell_type": "code",
   "execution_count": null,
   "metadata": {},
   "outputs": [],
   "source": []
  }
 ],
 "metadata": {
  "kernelspec": {
   "display_name": "pt",
   "language": "python",
   "name": "python3"
  },
  "language_info": {
   "codemirror_mode": {
    "name": "ipython",
    "version": 3
   },
   "file_extension": ".py",
   "mimetype": "text/x-python",
   "name": "python",
   "nbconvert_exporter": "python",
   "pygments_lexer": "ipython3",
   "version": "3.9.18"
  }
 },
 "nbformat": 4,
 "nbformat_minor": 2
}
